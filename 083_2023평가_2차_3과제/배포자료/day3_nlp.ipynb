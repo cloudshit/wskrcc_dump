{
 "cells": [
  {
   "cell_type": "markdown",
   "id": "ee6d2bc2",
   "metadata": {},
   "source": [
    "# Requirement\n",
    "\n",
    "You are a ML engineer. You need to implement a model that processes natual language in the IMDB dataset. Most of the code has been implemented, but there are still parts to be implemented. The RNN model needs to be further implemented. If RNN model you implement is perfect, You might not need hyperparameter tuning. But, you can try if necesseray.\n",
    "\n",
    "# Constraints\n",
    "It's not allowed to add or delete cells. You can't change the `DO NOT CHANGE` cells. Only `CHANGEABLE` cells can be changed. Of course, you can add or delete them during competitions. But, they must be returned to proper condition prior to the end of the competiton. You may lose points if you change cells that are not allowed or solve it usnig a illegal method."
   ]
  },
  {
   "cell_type": "code",
   "execution_count": null,
   "id": "23bbf09c",
   "metadata": {},
   "outputs": [],
   "source": [
    "# Cell 1 - Install packages\n",
    "# DO NOT CHANGE\n",
    "\n",
    "!pip install torch==1.8.0 torchtext==0.9.0"
   ]
  },
  {
   "cell_type": "code",
   "execution_count": null,
   "id": "3aff2e9d",
   "metadata": {},
   "outputs": [],
   "source": [
    "# Cell 2 - Import packages\n",
    "# DO NOT CHANGE\n",
    "\n",
    "import os\n",
    "import torch\n",
    "import torch.nn as nn\n",
    "import torch.nn.functional as F\n",
    "from torchtext.legacy import datasets, data\n",
    "import random"
   ]
  },
  {
   "cell_type": "code",
   "execution_count": null,
   "id": "b69be489",
   "metadata": {},
   "outputs": [],
   "source": [
    "# Cell 3 - Hyperparameters\n",
    "# CHANGEABLE\n",
    "\n",
    "device = 'cpu'\n",
    "batch_size = 64\n",
    "learning_rate = 0.001\n",
    "epochs = 5\n",
    "dropout_ratio = 0.2\n",
    "n_layer = 1\n",
    "hidden_dim = 32\n",
    "embed_dim = 128"
   ]
  },
  {
   "cell_type": "code",
   "execution_count": null,
   "id": "019f3061",
   "metadata": {},
   "outputs": [],
   "source": [
    "# Cell 4 - Import dataset, trainset and testset\n",
    "# DO NOT CHANGE\n",
    "\n",
    "TEXT = data.Field(sequential=True, batch_first=True, lower=True)\n",
    "LABEL = data.Field(sequential=False, batch_first=True)\n",
    "\n",
    "trainset, testset = datasets.IMDB.splits(TEXT, LABEL)"
   ]
  },
  {
   "cell_type": "code",
   "execution_count": null,
   "id": "7bfbaf98",
   "metadata": {},
   "outputs": [],
   "source": [
    "# Cell 5 - Build Vocabulary\n",
    "# DO NOT CHANGE\n",
    "\n",
    "TEXT.build_vocab(trainset, min_freq=5)\n",
    "LABEL.build_vocab(trainset)\n",
    "\n",
    "vocab_size = len(TEXT.vocab)\n",
    "n_classes = 2"
   ]
  },
  {
   "cell_type": "code",
   "execution_count": null,
   "id": "856c11c8",
   "metadata": {},
   "outputs": [],
   "source": [
    "# Cell 6 - Split validset from trainset and Create data loaders\n",
    "# DO NOT CHANGE\n",
    "\n",
    "trainset, valset = trainset.split(split_ratio=0.8)\n",
    "train_iterator, val_iterator, test_iterator = data.BucketIterator.splits((trainset, valset, testset), \n",
    "                                                                         shuffle=True, repeat=False, batch_size=batch_size)"
   ]
  },
  {
   "cell_type": "code",
   "execution_count": null,
   "id": "29737f74",
   "metadata": {},
   "outputs": [],
   "source": [
    "# Cell 7 - Print data informations\n",
    "# CHANGEABLE\n",
    "\n",
    "print('Voca size : {}'.format(vocab_size))\n",
    "print('Number of class : {}'.format(n_classes))\n",
    "print('Mini-batch size of trainset : {}'.format(len(train_iterator)))\n",
    "print('Mini-batch size of testset : {}'.format(len(test_iterator)))\n",
    "print('Mini-batch size of validset : {}'.format(len(val_iterator)))"
   ]
  },
  {
   "cell_type": "code",
   "execution_count": null,
   "id": "d16917fb",
   "metadata": {},
   "outputs": [],
   "source": [
    "# Cell 8 - RNN Model\n",
    "# CHANGEABLE\n",
    "\n",
    "class GRU(nn.Module):\n",
    "    def __init__(self, n_layers, hidden_dim, n_vocab, embed_dim, n_classes, dropout_ratio):\n",
    "        super(GRU, self).__init__()\n",
    "        self.n_layers = n_layers\n",
    "        self.hidden_dim = hidden_dim\n",
    "        self.dropout = nn.Dropout(dropout_ratio)\n",
    "\n",
    "        self.embed = nn.Embedding(n_vocab, embed_dim)\n",
    "        self.gru = nn.GRU()\n",
    "        self.out = nn.Linear(self.hidden_dim, n_classes)\n",
    "\n",
    "    def forward(self, x):\n",
    "        x = self.embed(x)\n",
    "        h_0 = self.init_hidden(x.size(0))\n",
    "        x, _ = self.gru(x, h_0)\n",
    "        h_t = x[:,-1,:]\n",
    "        self.dropout(h_t)\n",
    "        output = self.out(h_t)\n",
    "        return output\n",
    "\n",
    "    def init_hidden(self, batch_size=1):\n",
    "        weight = next(self.parameters()).data\n",
    "        return weight.new(self.n_layers, batch_size, self.hidden_dim).zero_()"
   ]
  },
  {
   "cell_type": "code",
   "execution_count": null,
   "id": "ed8b5511",
   "metadata": {},
   "outputs": [],
   "source": [
    "# Cell 9 - Define functions\n",
    "# DO NOT CHANGE\n",
    "\n",
    "def train(model, optimizer, train_iterator):\n",
    "    model.train()\n",
    "    for b, batch in enumerate(train_iterator):\n",
    "        x, y = batch.text.to(device), batch.label.to(device)\n",
    "        y.data.sub_(1)\n",
    "        \n",
    "        optimizer.zero_grad()\n",
    "        output = model(x)\n",
    "        loss = F.cross_entropy(output, y)\n",
    "        loss.backward()\n",
    "        optimizer.step()\n",
    "        \n",
    "def evaluate(model, val_iterator):\n",
    "    total_correct, total_loss = 0, 0\n",
    "    \n",
    "    model.eval()\n",
    "    for batch in val_iterator:\n",
    "        x, y = batch.text.to(device), batch.label.to(device)\n",
    "        y.data.sub_(1)\n",
    "        \n",
    "        prediction = model(x)\n",
    "        loss = F.cross_entropy(prediction, y, reduction='sum')\n",
    "        total_loss += loss.item()\n",
    "        total_correct += (prediction.max(1)[1].view(y.size()).data == y.data).sum()\n",
    "        \n",
    "    val_len = len(val_iterator.dataset)\n",
    "    avg_loss = total_loss / val_len\n",
    "    avg_accuracy = total_correct / val_len\n",
    "    \n",
    "    return avg_loss, avg_accuracy"
   ]
  },
  {
   "cell_type": "code",
   "execution_count": null,
   "id": "0968c4f5",
   "metadata": {},
   "outputs": [],
   "source": [
    "# Cell 10 - Train model\n",
    "# DO NOT CHANGE\n",
    "\n",
    "model = GRU(n_layer, hidden_dim, vocab_size, embed_dim, n_classes, dropout_ratio).to(device)\n",
    "optimizer = torch.optim.Adam(model.parameters(), lr=learning_rate)\n",
    "\n",
    "best_accuracy = 0.0\n",
    "val_accuracy = 0.0\n",
    "if not os.path.isdir(\"wsi_nlp\"):\n",
    "    os.makedirs(\"wsi_nlp\")\n",
    "        \n",
    "for epoch in range(epochs):\n",
    "    train(model, optimizer, train_iterator)\n",
    "    val_loss, val_accuracy = evaluate(model, val_iterator)\n",
    "\n",
    "    print('[epoch: {}] loss = {}, accuracy: {} '.format(epoch + 1, val_loss, val_accuracy))\n",
    "    \n",
    "    if val_accuracy > best_accuracy:\n",
    "        torch.save(model.state_dict(), './wsi_nlp/nlp_model.pt')\n",
    "        best_accuracy = val_accuracy"
   ]
  },
  {
   "cell_type": "code",
   "execution_count": null,
   "id": "c2b09b58",
   "metadata": {},
   "outputs": [],
   "source": [
    "# Cell 11 - Show the accuracy on testset\n",
    "# DO NOT CHANGE\n",
    "\n",
    "model.load_state_dict(torch.load('./wsi_nlp/nlp_model.pt'))\n",
    "test_loss, test_accuracy = evaluate(model, test_iterator)\n",
    "print('accuracy: %5.2f' % (test_accuracy))"
   ]
  }
 ],
 "metadata": {
  "kernelspec": {
   "display_name": "Python 3 (ipykernel)",
   "language": "python",
   "name": "python3"
  },
  "language_info": {
   "codemirror_mode": {
    "name": "ipython",
    "version": 3
   },
   "file_extension": ".py",
   "mimetype": "text/x-python",
   "name": "python",
   "nbconvert_exporter": "python",
   "pygments_lexer": "ipython3",
   "version": "3.9.16"
  }
 },
 "nbformat": 4,
 "nbformat_minor": 5
}
