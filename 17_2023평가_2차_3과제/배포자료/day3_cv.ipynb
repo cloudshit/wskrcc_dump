{
 "cells": [
  {
   "cell_type": "markdown",
   "id": "cd1c605a",
   "metadata": {},
   "source": [
    "# Requirement\n",
    "\n",
    "You are a ML engineer. You need to implement a model that classifies digits in the MNIST dataset. Most of the code has been implemented, but there are still parts to be implemented. The CNN model needs to be further implemented. Optimization is also required to increase inference performance. You might need hyperparameter tuning.\n",
    "\n",
    "# Constraints\n",
    "It's not allowed to add or delete cells. You can't change the `DO NOT CHANGE` cells. Only `CHANGEABLE` cells can be changed. Of course, you can add or delete them during competitions. But, they must be returned to proper condition prior to the end of the competiton. You may lose points if you change cells that are not allowed or solve it usnig a illegal method."
   ]
  },
  {
   "cell_type": "code",
   "execution_count": null,
   "id": "0fdba9e9",
   "metadata": {},
   "outputs": [],
   "source": [
    "# Cell 1 - Import packages\n",
    "# DO NOT CHANGE\n",
    "\n",
    "import torch\n",
    "import torchvision\n",
    "import torchvision.datasets as dsets\n",
    "import torchvision.transforms as transforms\n",
    "from torch import nn\n",
    "import torch.nn.init\n",
    "from torch.nn import functional as F\n",
    "import matplotlib.pyplot as plt\n",
    "import numpy as np\n",
    "from sklearn.metrics import f1_score\n",
    "from sklearn.metrics import accuracy_score\n",
    "from sklearn.metrics import precision_score\n",
    "from sklearn.metrics import recall_score"
   ]
  },
  {
   "cell_type": "code",
   "execution_count": null,
   "id": "036763a6",
   "metadata": {},
   "outputs": [],
   "source": [
    "# Cell 2 - Hyperparameters\n",
    "# CHANGEABLE\n",
    "\n",
    "device = 'cpu'\n",
    "torch.manual_seed(111)\n",
    "learning_rate = 1.0\n",
    "training_epochs = 100\n",
    "batch_size = 1\n",
    "dropout_ratio = 1.0\n",
    "is_shutffle = False\n",
    "criterion = nn.CrossEntropyLoss()\n",
    "classes = ('1', '2', '3', '4', '5', '6','7','8','9')"
   ]
  },
  {
   "cell_type": "code",
   "execution_count": null,
   "id": "5bdc94c2",
   "metadata": {},
   "outputs": [],
   "source": [
    "# Cell 3 - Data preprocessing\n",
    "# DO NOT CHANGE\n",
    "\n",
    "transformer = transforms.Compose([transforms.ToTensor()])\n",
    "\n",
    "trainset = dsets.MNIST(root='wsi_vision_data/',\n",
    "                         train=True,\n",
    "                         transform=transformer,\n",
    "                         download=True)\n",
    "\n",
    "testset = dsets.MNIST(root='wsi_vision_data/',\n",
    "                         train=False,\n",
    "                         transform=transformer,\n",
    "                         download=True)\n",
    "\n",
    "train_loader = torch.utils.data.DataLoader(dataset=trainset,\n",
    "                                          batch_size=batch_size,\n",
    "                                          shuffle=is_shutffle,\n",
    "                                          drop_last=True)\n",
    "\n",
    "test_loader = torch.utils.data.DataLoader(dataset=testset,\n",
    "                                          batch_size=batch_size,\n",
    "                                          shuffle=is_shutffle,\n",
    "                                          drop_last=True)"
   ]
  },
  {
   "cell_type": "code",
   "execution_count": null,
   "id": "1789fa07",
   "metadata": {},
   "outputs": [],
   "source": [
    "# Cell 4 - Visualization\n",
    "# CHANGEABLE\n",
    "\n",
    "def show_samples(img):\n",
    "    pass"
   ]
  },
  {
   "cell_type": "code",
   "execution_count": null,
   "id": "636b27cd",
   "metadata": {},
   "outputs": [],
   "source": [
    "# Cell 5 - CNN Model implement\n",
    "# CHANGEABLE\n",
    "\n",
    "class CNN(nn.Module):\n",
    "    def __init__(self):\n",
    "        super(CNN, self).__init__()\n",
    "        # Conv layer\n",
    "        self.conv1 = nn.Conv2d(in_channels=3, out_channels=32, kernel_size=3, stride=1, padding=1)\n",
    "        self.conv2 = nn.Conv2d(in_channels=3, out_channels=64, kernel_size=3, stride=1, padding=1)\n",
    "        \n",
    "        # Pooling\n",
    "        self.pool = nn.MaxPool2d(kernel_size=2, stride=2)\n",
    "        \n",
    "        # Fully-connected\n",
    "        self.fc1 = nn.Linear(64*7*7, 32)\n",
    "        self.fc2 = nn.Linear(32, 10)\n",
    "        self.dropout1 = nn.Dropout(dropout_ratio)\n",
    "\n",
    "    def forward(self, x):\n",
    "        # Conv1\n",
    "        x = F.relu(self.conv1(x))\n",
    "        x = self.pool(x)\n",
    "        \n",
    "        # Conv2\n",
    "        x = F.relu(self.conv2(x))\n",
    "        x = self.pool(x)\n",
    "        \n",
    "        # FC\n",
    "        x = F.relu(self.fc1(x))\n",
    "        x = self.dropout1(x)\n",
    "        out = self.fc2(x)\n",
    "\n",
    "        return out"
   ]
  },
  {
   "cell_type": "code",
   "execution_count": null,
   "id": "8f285458",
   "metadata": {},
   "outputs": [],
   "source": [
    "# Cell 6 - Parameter setting\n",
    "# DO NOT CHANGE\n",
    "\n",
    "model = CNN().to(device)\n",
    "optimizer = torch.optim.Adam(model.parameters(), lr=learning_rate)\n",
    "criterion = criterion.to(device)\n",
    "total_batch_size = len(train_loader)"
   ]
  },
  {
   "cell_type": "code",
   "execution_count": null,
   "id": "344c007e",
   "metadata": {},
   "outputs": [],
   "source": [
    "# Cell 7 - Trainer\n",
    "# DO NOT CHANGE\n",
    "\n",
    "for epoch in range(training_epochs):\n",
    "    avg_cost = 0\n",
    "\n",
    "    for X, Y in train_loader:\n",
    "        X = X.to(device)\n",
    "        Y = Y.to(device)\n",
    "\n",
    "        optimizer.zero_grad()\n",
    "        output = model(X)\n",
    "        loss = criterion(output, Y)\n",
    "        loss.backward()\n",
    "        optimizer.step()\n",
    "\n",
    "        avg_cost += loss / total_batch_size\n",
    "\n",
    "    print('[Epoch: {:>4}] cost = {:>.9}'.format(epoch + 1, avg_cost))"
   ]
  },
  {
   "cell_type": "code",
   "execution_count": null,
   "id": "6590b98d",
   "metadata": {},
   "outputs": [],
   "source": [
    "# Cell 8 - Evaluation\n",
    "# DO NOT CHANGE\n",
    "\n",
    "y_trues = np.array([])\n",
    "y_preds = np.array([])\n",
    "\n",
    "model.eval()\n",
    "with torch.no_grad():\n",
    "    for X, Y in test_loader:\n",
    "        X = X.to(device)\n",
    "        Y = Y.to(device)\n",
    "        \n",
    "        prediction = model(X)\n",
    "        pred = torch.argmax(prediction, 1)\n",
    "        \n",
    "        y_trues = np.append(y_trues, Y.cpu())\n",
    "        y_preds = np.append(y_preds, pred.cpu())\n",
    "\n",
    "print('accuracy:', accuracy_score(y_trues, y_preds, normalize=True))\n",
    "print('precision:', precision_score(y_trues, y_preds, average='macro'))\n",
    "print('recall:', recall_score(y_trues, y_preds, average='macro'))\n",
    "print('F1-score:', f1_score(y_trues, y_preds, average='macro'))"
   ]
  }
 ],
 "metadata": {
  "kernelspec": {
   "display_name": "Python 3 (ipykernel)",
   "language": "python",
   "name": "python3"
  },
  "language_info": {
   "codemirror_mode": {
    "name": "ipython",
    "version": 3
   },
   "file_extension": ".py",
   "mimetype": "text/x-python",
   "name": "python",
   "nbconvert_exporter": "python",
   "pygments_lexer": "ipython3",
   "version": "3.8.10"
  }
 },
 "nbformat": 4,
 "nbformat_minor": 5
}
